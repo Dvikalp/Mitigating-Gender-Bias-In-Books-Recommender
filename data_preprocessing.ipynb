{
  "nbformat": 4,
  "nbformat_minor": 0,
  "metadata": {
    "colab": {
      "provenance": []
    },
    "kernelspec": {
      "name": "python3",
      "display_name": "Python 3"
    },
    "language_info": {
      "name": "python"
    }
  },
  "cells": [
    {
      "cell_type": "code",
      "source": [
        "import pandas as pd\n",
        "import matplotlib.pyplot as plt\n",
        "\n",
        "# Load the Excel file into a DataFrame\n",
        "df = pd.read_excel(\"result_VAECF.xlsx\")\n",
        "\n",
        "# Assuming the column containing %Change is named '%Change'\n",
        "# If not, replace '%Change' with the actual column name\n",
        "percent_change_column = df['%Change']\n",
        "\n",
        "# Make sure all values are positive\n",
        "percent_change_column = percent_change_column.abs()\n",
        "\n",
        "# Plot the %Change values\n",
        "plt.plot(percent_change_column)\n",
        "plt.title('Percentage of Relative Improvement')\n",
        "plt.xlabel('Index')\n",
        "plt.ylabel('% Change')\n",
        "plt.grid(True)\n",
        "# Hide the x-axis numbers\n",
        "plt.xticks([])\n",
        "plt.show()"
      ],
      "metadata": {
        "id": "6SUVAvIyGCdH",
        "collapsed": true
      },
      "execution_count": null,
      "outputs": []
    },
    {
      "cell_type": "code",
      "source": [
        "import pandas as pd\n",
        "import matplotlib.pyplot as plt\n",
        "\n",
        "# Load the Excel file into a DataFrame\n",
        "df = pd.read_excel(\"result_VAECF2.xlsx\")\n",
        "\n",
        "# Assuming the column containing %Change is named '%Change'\n",
        "# If not, replace '%Change' with the actual column name\n",
        "percent_change_column = df['%Change']\n",
        "\n",
        "# Make sure all values are positive\n",
        "percent_change_column = percent_change_column.abs()\n",
        "\n",
        "# Plot the %Change values\n",
        "plt.plot(percent_change_column)\n",
        "plt.title('Percentage of Relative Improvement')\n",
        "plt.xlabel('Index')\n",
        "plt.ylabel('% Change')\n",
        "plt.grid(True)\n",
        "# Hide the x-axis numbers\n",
        "plt.xticks([])\n",
        "\n",
        "plt.show()"
      ],
      "metadata": {
        "id": "X3tpuY82MImJ"
      },
      "execution_count": null,
      "outputs": []
    },
    {
      "cell_type": "code",
      "source": [
        "# Load the Excel files into DataFrames\n",
        "df1 = pd.read_excel(\"result_VAECF.xlsx\")\n",
        "df2 = pd.read_excel(\"result_VAECF2.xlsx\")\n",
        "\n",
        "ndcg_all_column1 = df1['ndcg_ALL']\n",
        "ndcg_all_column2 = df2['ndcg_ALL']\n",
        "\n",
        "# Plot the variation of ndcg_ALL for both files\n",
        "plt.plot(ndcg_all_column1, label='More Precise Division')\n",
        "plt.plot(ndcg_all_column2, label='Gender Division')\n",
        "plt.title('Variation of ndcg_ALL')\n",
        "plt.xlabel('Index')\n",
        "plt.ylabel('ndcg_ALL')\n",
        "plt.legend()\n",
        "plt.grid(True)\n",
        "# Hide the x-axis numbers\n",
        "plt.xticks([])\n",
        "plt.show()"
      ],
      "metadata": {
        "id": "zDXYpAIaMXT2"
      },
      "execution_count": null,
      "outputs": []
    },
    {
      "cell_type": "code",
      "source": [
        "# Load the Excel files into DataFrames\n",
        "df1 = pd.read_excel(\"result_VAECF2.xlsx\")\n",
        "df2 = pd.read_csv(\"results__PF.csv\")\n",
        "df3 = pd.read_csv(\"results__WMF.csv\")\n",
        "\n",
        "ndcg_all_column1 = df1['ndcg_ALL']\n",
        "ndcg_all_column2 = df2['ndcg_ALL']\n",
        "ndcg_all_column3 = df3['ndcg_ALL']\n",
        "\n",
        "# Plot the variation of ndcg_ALL for both files\n",
        "plt.plot(ndcg_all_column1, label='VAECF')\n",
        "plt.plot(ndcg_all_column2, label='PF')\n",
        "plt.plot(ndcg_all_column3, label='WMF')\n",
        "plt.title('Variation of ndcg_ALL')\n",
        "plt.xlabel('Index')\n",
        "plt.ylabel('ndcg_ALL')\n",
        "plt.legend()\n",
        "plt.grid(True)\n",
        "# Hide the x-axis numbers\n",
        "plt.xticks([])\n",
        "plt.show()"
      ],
      "metadata": {
        "id": "jRM2AL0wWUIN"
      },
      "execution_count": null,
      "outputs": []
    },
    {
      "cell_type": "code",
      "source": [
        "!pip install kaggle\n"
      ],
      "metadata": {
        "id": "_7TerTLkaysW"
      },
      "execution_count": null,
      "outputs": []
    },
    {
      "cell_type": "code",
      "source": [
        "from google.colab import files\n",
        "\n",
        "uploaded = files.upload()"
      ],
      "metadata": {
        "id": "xXmrWpOua8wm"
      },
      "execution_count": null,
      "outputs": []
    },
    {
      "cell_type": "code",
      "source": [
        "!mkdir -p ~/.kaggle\n",
        "!cp kaggle.json ~/.kaggle/\n",
        "!chmod 600 ~/.kaggle/kaggle.json"
      ],
      "metadata": {
        "id": "0-jsdsrSbHZg"
      },
      "execution_count": null,
      "outputs": []
    },
    {
      "cell_type": "markdown",
      "source": [
        "BOOK CROSSING DATASET"
      ],
      "metadata": {
        "id": "cIZfSQ1yCu0Y"
      }
    },
    {
      "cell_type": "code",
      "source": [
        "!kaggle datasets download -d somnambwl/bookcrossing-dataset"
      ],
      "metadata": {
        "id": "JCkAaWwICLuJ"
      },
      "execution_count": null,
      "outputs": []
    },
    {
      "cell_type": "code",
      "source": [
        "!unzip -q bookcrossing-dataset.zip"
      ],
      "metadata": {
        "id": "8_AAOSDACXvy"
      },
      "execution_count": null,
      "outputs": []
    },
    {
      "cell_type": "code",
      "source": [
        "import pandas as pd\n",
        "import numpy as np"
      ],
      "metadata": {
        "id": "c3cq-GCMC5bT"
      },
      "execution_count": null,
      "outputs": []
    },
    {
      "cell_type": "code",
      "source": [
        "book_df=pd.read_csv('Books.csv',sep=';')\n",
        "rating_df=pd.read_csv('Ratings.csv',sep=';')"
      ],
      "metadata": {
        "id": "pYLEbyFeC-G_"
      },
      "execution_count": null,
      "outputs": []
    },
    {
      "cell_type": "code",
      "source": [
        "book_df.info()\n",
        "rating_df.info()"
      ],
      "metadata": {
        "id": "hzwpE-NEETKr"
      },
      "execution_count": null,
      "outputs": []
    },
    {
      "cell_type": "code",
      "source": [
        "combined_df = pd.merge(rating_df, book_df, on='ISBN', how='left')\n",
        "combined_df = combined_df[['User-ID', 'ISBN', 'Rating', 'Author']]\n",
        "combined_df = combined_df.dropna()\n",
        "combined_df.info()"
      ],
      "metadata": {
        "id": "R_808NeEE3cI"
      },
      "execution_count": null,
      "outputs": []
    },
    {
      "cell_type": "code",
      "source": [
        "user_ratings_count = combined_df.groupby('User-ID').size()\n",
        "book_ratings_count = combined_df.groupby('ISBN').size()\n",
        "\n",
        "# Filter users who have rated at least 50 books\n",
        "active_users = user_ratings_count[user_ratings_count >= 100].index.tolist()\n",
        "\n",
        "# Filter books that have been rated by at least 50 users\n",
        "popular_books = book_ratings_count[book_ratings_count >= 25].index.tolist()\n",
        "\n",
        "# Apply filters to combined_df\n",
        "filtered_df = combined_df[(combined_df['User-ID'].isin(active_users)) & (combined_df['ISBN'].isin(popular_books))]\n",
        "\n",
        "num_unique_users = filtered_df['User-ID'].nunique()\n",
        "\n",
        "# Count the number of unique authors\n",
        "num_unique_authors = filtered_df['Author'].nunique()\n",
        "\n",
        "# Display the counts\n",
        "print(\"Number of unique users:\", num_unique_users)\n",
        "print(\"Number of unique authors:\", num_unique_authors)\n",
        "\n",
        "filtered_df.info()"
      ],
      "metadata": {
        "id": "ie7xwN2DH9PF"
      },
      "execution_count": null,
      "outputs": []
    },
    {
      "cell_type": "code",
      "source": [
        "unique_authors = filtered_df['Author'].unique()\n",
        "\n",
        "# Create a DataFrame with only the 'Author' column\n",
        "unique_authors_df = pd.DataFrame({'Author': unique_authors})\n",
        "\n",
        "# Export the DataFrame to a CSV file\n",
        "unique_authors_df.to_csv('unique_authors.csv', index=False)"
      ],
      "metadata": {
        "id": "b3-NCTwwTr3j"
      },
      "execution_count": null,
      "outputs": []
    },
    {
      "cell_type": "code",
      "source": [
        "unique_authors_df.info()"
      ],
      "metadata": {
        "id": "Wvsx83GtT53y"
      },
      "execution_count": null,
      "outputs": []
    },
    {
      "cell_type": "code",
      "source": [
        "output_df=pd.read_csv('output.csv')\n",
        "# output_df.head()\n",
        "output_df.info()"
      ],
      "metadata": {
        "id": "iDt0ICjXWQKl"
      },
      "execution_count": null,
      "outputs": []
    },
    {
      "cell_type": "code",
      "source": [
        "output_df=output_df[output_df['Gender']!='unknown']\n",
        "count=output_df['Gender'].value_counts()\n",
        "print(count)\n",
        "output_df.info()"
      ],
      "metadata": {
        "id": "vPSheqh9Wa7y"
      },
      "execution_count": null,
      "outputs": []
    },
    {
      "cell_type": "code",
      "source": [
        "male_df = output_df[output_df['Gender'] == 'male']\n",
        "female_df = output_df[output_df['Gender'] == 'female']\n",
        "\n",
        "sampled_female_df = female_df.sample(n=659, random_state=21)\n",
        "\n",
        "balanced_df = pd.concat([male_df, sampled_female_df])\n",
        "\n",
        "balanced_df = balanced_df.sample(frac=1, random_state=21).reset_index(drop=True)\n",
        "final_output_df=balanced_df\n",
        "\n",
        "print(final_output_df['Gender'].value_counts())\n",
        "\n",
        "final_output_df.info()"
      ],
      "metadata": {
        "id": "g2YtYf0e3WQA"
      },
      "execution_count": null,
      "outputs": []
    },
    {
      "cell_type": "code",
      "source": [
        "final_df=pd.merge(filtered_df,final_output_df,on='Author',how='left')\n",
        "final_df=final_df.dropna(subset=['Gender'])\n",
        "final_df.head()"
      ],
      "metadata": {
        "id": "KaSgPSQHYi__"
      },
      "execution_count": null,
      "outputs": []
    },
    {
      "cell_type": "code",
      "source": [
        "final_df=final_df[final_df['Rating']!=0]\n",
        "final_df.head()"
      ],
      "metadata": {
        "id": "b4cejIom7G1Z"
      },
      "execution_count": null,
      "outputs": []
    },
    {
      "cell_type": "code",
      "source": [
        "print(final_output_df['Gender'].value_counts())"
      ],
      "metadata": {
        "id": "TURJW0xC7kvg"
      },
      "execution_count": null,
      "outputs": []
    },
    {
      "cell_type": "code",
      "source": [
        "final_df.info()"
      ],
      "metadata": {
        "id": "P1mmYbvlbMDM"
      },
      "execution_count": null,
      "outputs": []
    },
    {
      "cell_type": "code",
      "source": [
        "final_df.head()"
      ],
      "metadata": {
        "id": "y3POjdIu6TJd"
      },
      "execution_count": null,
      "outputs": []
    },
    {
      "cell_type": "code",
      "source": [
        "final_df.to_csv('final_data_crossing.csv',index=False)"
      ],
      "metadata": {
        "id": "yRRYvopIZn3J"
      },
      "execution_count": null,
      "outputs": []
    },
    {
      "cell_type": "code",
      "source": [
        "# Define a function to handle categorical column encoding\n",
        "def encode_categorical_column(column_name):\n",
        "\n",
        "    # Use category codes for efficient handling of large datasets\n",
        "    return final_df[column_name].astype('category').cat.codes\n",
        "\n",
        "# Encode categorical columns (excluding Rating)\n",
        "encoded_df = final_df.copy()\n",
        "for col in ['User-ID', 'ISBN', 'Author', 'Gender']:\n",
        "    encoded_df[col] = encode_categorical_column(col)\n",
        "\n",
        "# Keep Rating column unchanged (assuming it's numerical)\n",
        "encoded_df['Rating'] = final_df['Rating']\n",
        "\n",
        "encoded_df = encoded_df.sort_values(by='User-ID')\n",
        "\n",
        "print(encoded_df)\n"
      ],
      "metadata": {
        "id": "4o1IAgiEDlGn"
      },
      "execution_count": null,
      "outputs": []
    },
    {
      "cell_type": "code",
      "source": [
        "encoded_df.head()"
      ],
      "metadata": {
        "id": "RpaN9e2_E82u"
      },
      "execution_count": null,
      "outputs": []
    },
    {
      "cell_type": "code",
      "source": [
        "encoded_df.info()"
      ],
      "metadata": {
        "id": "qxT-NyfsEvNT"
      },
      "execution_count": null,
      "outputs": []
    },
    {
      "cell_type": "code",
      "source": [
        "encoded_df.to_csv('final_data_crossing.csv',index=False)"
      ],
      "metadata": {
        "id": "Oa8M9oKMFLuQ"
      },
      "execution_count": null,
      "outputs": []
    },
    {
      "cell_type": "code",
      "source": [
        "from sklearn.model_selection import train_test_split"
      ],
      "metadata": {
        "id": "kZWJag4LHA5X"
      },
      "execution_count": null,
      "outputs": []
    },
    {
      "cell_type": "code",
      "source": [
        "train_size = 0.7  # 70% for training data\n",
        "test_size = 0.2  # 20% for testing data\n",
        "tune_size = 0.1  # 10% for tuning data\n",
        "\n",
        "# Split data into train, test, and tune sets (using random shuffling)\n",
        "train_df, test_df = train_test_split(encoded_df, test_size=test_size, random_state=42)  # Fix random seed for reproducibility\n",
        "train_df, tune_df = train_test_split(train_df, test_size=tune_size/(train_size+tune_size), random_state=42)\n",
        "\n",
        "train_df = train_df.sort_values(by='User-ID')\n",
        "test_df = test_df.sort_values(by='User-ID')\n",
        "tune_df = tune_df.sort_values(by='User-ID')\n",
        "\n",
        "# Save dataframes to CSV files\n",
        "train_df.to_csv(\"book_crossing_train.csv\", index=False)\n",
        "test_df.to_csv(\"book_crossing_test.csv\", index=False)\n",
        "tune_df.to_csv(\"book_crossing_tune.csv\", index=False)\n"
      ],
      "metadata": {
        "id": "e54rGyXRGJV1"
      },
      "execution_count": null,
      "outputs": []
    },
    {
      "cell_type": "code",
      "source": [
        "# get item distribution\n",
        "item_dist = encoded_df['Gender'].value_counts()\n",
        "num_items = len(item_dist)\n",
        "print('No. items: ' + str(num_items))"
      ],
      "metadata": {
        "id": "RWQNg3kZN2Kc"
      },
      "execution_count": null,
      "outputs": []
    },
    {
      "cell_type": "code",
      "source": [
        "\n",
        "gender_groups = encoded_df.groupby('Gender')\n",
        "\n",
        "# Extract lists of User-IDs for each gender\n",
        "user_id_lists = {gender: list(set(map(str, sorted(group['ISBN'])))) for gender, group in gender_groups}\n",
        "\n",
        "print(user_id_lists)"
      ],
      "metadata": {
        "id": "Yj1aCsTtO6hk"
      },
      "execution_count": null,
      "outputs": []
    },
    {
      "cell_type": "code",
      "source": [
        "# Save to separate text files (assuming 'user_id_lists' has keys 'M' and 'F')\n",
        "for gender, user_ids in user_id_lists.items():\n",
        "  with open(f\"{gender}_user_ids.txt\", 'w') as f:\n",
        "    f.write('\\n'.join(user_ids))"
      ],
      "metadata": {
        "id": "iUnDJYF2RiHa"
      },
      "execution_count": null,
      "outputs": []
    },
    {
      "cell_type": "code",
      "source": [
        "dataset=encoded_df"
      ],
      "metadata": {
        "id": "jgOV3ASkTuoO"
      },
      "execution_count": null,
      "outputs": []
    },
    {
      "cell_type": "code",
      "source": [
        "import pandas as pd\n",
        "from collections import defaultdict\n",
        "from tqdm import tqdm"
      ],
      "metadata": {
        "id": "IWdb4NJ0Ty_S"
      },
      "execution_count": null,
      "outputs": []
    },
    {
      "cell_type": "code",
      "source": [
        "user_dist = dataset['User-ID'].value_counts()\n",
        "num_users = len(user_dist)\n",
        "print('No. users: ' + str(num_users))\n",
        "print('Mean items per user: ' + str(user_dist.mean()))\n",
        "print('Min items per user: ' + str(user_dist.min()))\n",
        "print('Max items per user: ' + str(user_dist.max()))"
      ],
      "metadata": {
        "id": "Hemraf3QT8EW"
      },
      "execution_count": null,
      "outputs": []
    },
    {
      "cell_type": "code",
      "source": [
        "# get item distribution\n",
        "item_dist = dataset['ISBN'].value_counts()\n",
        "num_items = len(item_dist)\n",
        "print('No. items: ' + str(num_items))"
      ],
      "metadata": {
        "id": "sNj2-gqxUFiu"
      },
      "execution_count": null,
      "outputs": []
    },
    {
      "cell_type": "code",
      "source": [
        "# get top items\n",
        "top_fraction = 0.2\n",
        "num_top = int(top_fraction * num_items)\n",
        "top_item_dist = item_dist[:num_top]\n",
        "print('No. top items: ' + str(num_top))"
      ],
      "metadata": {
        "id": "pqAHJBLQUTNY"
      },
      "execution_count": null,
      "outputs": []
    },
    {
      "cell_type": "code",
      "source": [
        "top_item_set = set(top_item_dist.keys())"
      ],
      "metadata": {
        "id": "mC9A6ULsUaKx"
      },
      "execution_count": null,
      "outputs": []
    },
    {
      "cell_type": "code",
      "source": [
        "user_items = defaultdict(set)\n",
        "for eachline in tqdm(dataset.iterrows()):\n",
        "    uid, iid, rating = eachline[1][0], eachline[1][1], eachline[1][2]\n",
        "    uid, iid = int(uid), int(iid)\n",
        "    if uid in user_items.keys():\n",
        "        user_items[uid].add(iid)\n",
        "    else:\n",
        "        user_items[uid] = {iid}"
      ],
      "metadata": {
        "id": "nE1xL-VSUfE0"
      },
      "execution_count": null,
      "outputs": []
    },
    {
      "cell_type": "code",
      "source": [
        "user_pop_item_ratio = {}\n",
        "\n",
        "for user, items in tqdm(user_items.items()):\n",
        "    if user not in user_pop_item_ratio.keys():\n",
        "        user_pop_item_ratio[user] = (len(set(items) & set(top_item_set))) / len(set(items))"
      ],
      "metadata": {
        "id": "47D0BCJpUsqN"
      },
      "execution_count": null,
      "outputs": []
    },
    {
      "cell_type": "code",
      "source": [
        "sorted_user_pop_item_ratio = {k: v for k, v in sorted(user_pop_item_ratio.items(), key=lambda item: item[1], reverse=True)}\n",
        "num_user = len(sorted_user_pop_item_ratio)\n",
        "num_top_users = int(top_fraction * num_users)\n",
        "num_top_users"
      ],
      "metadata": {
        "id": "pNx0O3XXUuNz"
      },
      "execution_count": null,
      "outputs": []
    },
    {
      "cell_type": "code",
      "source": [
        "inactive_users = open(f'inactive_ids.txt', 'w')\n",
        "active_users = open(f'active_ids.txt', 'w')"
      ],
      "metadata": {
        "id": "S5_J1XTMUzqq"
      },
      "execution_count": null,
      "outputs": []
    },
    {
      "cell_type": "code",
      "source": [
        "for uid in list(sorted_user_pop_item_ratio.keys())[:num_top_users]:\n",
        "    active_users.write(str(uid) + '\\n')\n",
        "active_users.close()"
      ],
      "metadata": {
        "id": "iQD7qQRxVBij"
      },
      "execution_count": null,
      "outputs": []
    },
    {
      "cell_type": "code",
      "source": [
        "for uid in list(sorted_user_pop_item_ratio.keys())[num_top_users:]:\n",
        "    inactive_users.write(str(uid) + '\\n')\n",
        "inactive_users.close()"
      ],
      "metadata": {
        "id": "Q1bLPgjOVH7e"
      },
      "execution_count": null,
      "outputs": []
    },
    {
      "cell_type": "code",
      "source": [
        "df = pd.read_csv(\"book_crossing_tune.csv\")\n",
        "\n",
        "selected_columns = df[[\"User-ID\", \"ISBN\", \"Rating\"]]\n",
        "\n",
        "# Convert DataFrame to text file with values separated by space and each row on a new line\n",
        "selected_columns.to_csv(\"BookCrossing_tune.txt\", sep='\\t', index=False, header=False)"
      ],
      "metadata": {
        "id": "mraWjcRNjoSA"
      },
      "execution_count": null,
      "outputs": []
    },
    {
      "cell_type": "markdown",
      "source": [
        "Mean Log Bias"
      ],
      "metadata": {
        "id": "Ihgq932IeBb-"
      }
    },
    {
      "cell_type": "code",
      "source": [
        "from scipy.stats import gmean\n",
        "from scipy.stats import norm\n",
        "import matplotlib.pyplot as plt\n",
        "from matplotlib.ticker import FormatStrFormatter"
      ],
      "metadata": {
        "id": "ik0OsF9KbBla"
      },
      "execution_count": null,
      "outputs": []
    },
    {
      "cell_type": "code",
      "source": [
        "def GeometricMean(number_list):\n",
        "    if len(number_list) == 0:\n",
        "        return -1\n",
        "    return gmean(number_list)\n",
        "\n",
        "\n",
        "def judge_user_data_segment(data_segment):\n",
        "    male_author_books_ratings = []\n",
        "    female_author_books_ratings = []\n",
        "\n",
        "    for ind in data_segment.index:\n",
        "        gender = data_segment['Gender'][ind]\n",
        "        if gender == 'male':\n",
        "            male_author_books_ratings.append(data_segment['Rating'][ind])\n",
        "        elif gender == 'female':\n",
        "            female_author_books_ratings.append(data_segment['Rating'][ind])\n",
        "        else:\n",
        "            return np.nan, np.nan, np.nan, np.nan\n",
        "\n",
        "    if not male_author_books_ratings or not female_author_books_ratings:\n",
        "        return len(male_author_books_ratings), len(female_author_books_ratings), np.nan, np.nan\n",
        "\n",
        "    gmean_rating_male_author_books = GeometricMean(male_author_books_ratings)\n",
        "    gmean_rating_female_author_books = GeometricMean(female_author_books_ratings)\n",
        "\n",
        "    if gmean_rating_male_author_books == -1 or gmean_rating_female_author_books == -1:\n",
        "        return len(male_author_books_ratings), len(female_author_books_ratings), np.nan, np.nan\n",
        "\n",
        "    ratio_male_female = gmean_rating_male_author_books / gmean_rating_female_author_books\n",
        "    bias_score = np.log(ratio_male_female)\n",
        "\n",
        "    return len(male_author_books_ratings), len(female_author_books_ratings), ratio_male_female, bias_score\n",
        "\n",
        "list_user_bias_score = []\n",
        "\n",
        "for user in final_df['User-ID'].unique():\n",
        "    user_data_segment = final_df.loc[final_df['User-ID'] == user]\n",
        "    user_data_segment_filtered = user_data_segment[['Author', 'Rating', 'Gender']]\n",
        "    no_male_author_books, no_female_author_books, ratio_male_female, user_bias_score = judge_user_data_segment(user_data_segment_filtered)\n",
        "\n",
        "    list_user_bias_score.append(user_bias_score)\n",
        "\n",
        "user_bias_df = pd.DataFrame({'User-ID': final_df['User-ID'].unique(), 'Bias_Score': list_user_bias_score})\n",
        "\n",
        "user_bias_df.head()"
      ],
      "metadata": {
        "id": "kg9TaiA6aJi2"
      },
      "execution_count": null,
      "outputs": []
    },
    {
      "cell_type": "code",
      "source": [
        "cleaned_list_user_bias_score = [x for x in list_user_bias_score if str(x) != 'nan' and str(x) != '-inf' and str(x) != 'inf']\n",
        "\n",
        "mean, std = norm.fit(cleaned_list_user_bias_score)\n",
        "\n",
        "print('Mean and Std values ',mean,std)\n"
      ],
      "metadata": {
        "id": "dgUI3UaScaI8"
      },
      "execution_count": null,
      "outputs": []
    },
    {
      "cell_type": "code",
      "source": [
        "import math\n",
        "\n",
        "# Calculate natural logarithm\n",
        "log_x = math.log(mean)\n",
        "\n",
        "print(f\"Natural logarithm of {mean} is: {log_x}\")"
      ],
      "metadata": {
        "id": "ARgkYm4J8PrD"
      },
      "execution_count": null,
      "outputs": []
    },
    {
      "cell_type": "markdown",
      "source": [
        "AMAZON DATASET"
      ],
      "metadata": {
        "id": "ECYgukldCrGB"
      }
    },
    {
      "cell_type": "code",
      "source": [
        "!kaggle datasets download -d mohamedbakhet/amazon-books-reviews -f Books_rating.csv\n"
      ],
      "metadata": {
        "id": "sIW9DDOMbrFS"
      },
      "execution_count": null,
      "outputs": []
    },
    {
      "cell_type": "code",
      "source": [
        "!kaggle datasets download -d mohamedbakhet/amazon-books-reviews -f books_data.csv"
      ],
      "metadata": {
        "id": "padQSfswdiR_"
      },
      "execution_count": null,
      "outputs": []
    },
    {
      "cell_type": "code",
      "source": [
        "!unzip -q Books_rating.csv.zip"
      ],
      "metadata": {
        "id": "vTwtq4xAciVQ"
      },
      "execution_count": null,
      "outputs": []
    },
    {
      "cell_type": "code",
      "source": [
        "!unzip -q books_data.csv.zip"
      ],
      "metadata": {
        "id": "f7fulcNhdmuP"
      },
      "execution_count": null,
      "outputs": []
    },
    {
      "cell_type": "code",
      "execution_count": null,
      "metadata": {
        "id": "S4x_ZXBSK9G0"
      },
      "outputs": [],
      "source": [
        "import pandas as pd\n",
        "import numpy as np\n"
      ]
    },
    {
      "cell_type": "code",
      "source": [
        "book_df=pd.read_csv('books_data.csv')"
      ],
      "metadata": {
        "id": "OqwBGWV4Dt5p"
      },
      "execution_count": null,
      "outputs": []
    },
    {
      "cell_type": "code",
      "source": [
        "filtered_book_df=book_df.dropna(subset=['Title','authors'])\n",
        "filtered_book_df=filtered_book_df[['Title','authors']]\n",
        "filtered_book_df.info()"
      ],
      "metadata": {
        "id": "QEv85SpyO6Z-"
      },
      "execution_count": null,
      "outputs": []
    },
    {
      "cell_type": "code",
      "source": [
        "filtered_book_df.to_csv('filtered_books_data.csv',index=False)"
      ],
      "metadata": {
        "id": "65C2okW_Q3_k"
      },
      "execution_count": null,
      "outputs": []
    },
    {
      "cell_type": "code",
      "source": [
        "book_rating_df=pd.read_csv('Books_rating.csv')"
      ],
      "metadata": {
        "id": "uN8MY7QXdB6I"
      },
      "execution_count": null,
      "outputs": []
    },
    {
      "cell_type": "code",
      "source": [
        "filtered_book_rating_df=book_rating_df.drop('Price',axis=1)\n",
        "filtered_book_rating_df.head()"
      ],
      "metadata": {
        "id": "bmKKPZKBf03K"
      },
      "execution_count": null,
      "outputs": []
    },
    {
      "cell_type": "code",
      "source": [
        "id_counts=filtered_book_rating_df['Id'].value_counts()\n",
        "user_id_counts=filtered_book_rating_df['User_id'].value_counts()\n",
        "\n",
        "filtered_id = filtered_book_rating_df[filtered_book_rating_df['Id'].isin(id_counts[id_counts >=100].index)]\n",
        "\n",
        "filtered_user_id = filtered_book_rating_df[filtered_book_rating_df['User_id'].isin(user_id_counts[user_id_counts >=75].index)]\n",
        "\n",
        "new_filtered_book_rating_df = pd.merge(filtered_id, filtered_user_id, how='inner')\n",
        "\n",
        "new_filtered_book_rating_df= new_filtered_book_rating_df.dropna(subset=['Title'])\n",
        "\n",
        "new_filtered_book_rating_df.info()"
      ],
      "metadata": {
        "id": "uSa_JFWNlhFy"
      },
      "execution_count": null,
      "outputs": []
    },
    {
      "cell_type": "code",
      "source": [
        "output_df=pd.read_csv('output.csv')\n",
        "# output_df.head()\n",
        "output_df.info()"
      ],
      "metadata": {
        "id": "v_2x3XtcngdP"
      },
      "execution_count": null,
      "outputs": []
    },
    {
      "cell_type": "code",
      "source": [
        "output_df=output_df[output_df['Gender']!='unknown']\n",
        "count=output_df['Gender'].value_counts()\n",
        "print(count)\n",
        "output_df.info()"
      ],
      "metadata": {
        "id": "7d9ZInzWn7eh"
      },
      "execution_count": null,
      "outputs": []
    },
    {
      "cell_type": "code",
      "source": [
        "# male_df = output_df[output_df['Gender'] == 'male']\n",
        "# female_df = output_df[output_df['Gender'] == 'female']\n",
        "# num_samples_female = 9000\n",
        "# sampled_female_df = female_df.sample(n=num_samples_female, random_state=42)\n",
        "# sampled_female_df['Gender'] = 'male'\n",
        "# balanced_df = pd.concat([male_df, sampled_female_df, female_df.drop(sampled_female_df.index)])\n",
        "# balanced_df = balanced_df.sample(frac=1, random_state=42).reset_index(drop=True)\n",
        "# output_df=balanced_df\n",
        "# count=output_df['Gender'].value_counts()\n",
        "# print(count)"
      ],
      "metadata": {
        "id": "9u8vQEILP9vH"
      },
      "execution_count": null,
      "outputs": []
    },
    {
      "cell_type": "code",
      "source": [
        "final_df=pd.merge(new_filtered_book_rating_df,output_df,on='Title',how='left')\n",
        "final_df.head()"
      ],
      "metadata": {
        "id": "kRWoHEHEpKF4"
      },
      "execution_count": null,
      "outputs": []
    },
    {
      "cell_type": "code",
      "source": [
        "final_df.info()"
      ],
      "metadata": {
        "id": "d3rj58FFpsb4"
      },
      "execution_count": null,
      "outputs": []
    },
    {
      "cell_type": "code",
      "source": [
        "final_df=final_df.dropna(subset=['Authors','Gender'])\n",
        "final_df.info()"
      ],
      "metadata": {
        "id": "ifRoAJcwp7Z0"
      },
      "execution_count": null,
      "outputs": []
    },
    {
      "cell_type": "code",
      "source": [
        "print(final_df['Gender'].value_counts())\n",
        "print(final_df['User_id'].nunique())\n",
        "final_df.sample(n=5)\n"
      ],
      "metadata": {
        "id": "DIfIRyBDqU_f"
      },
      "execution_count": null,
      "outputs": []
    },
    {
      "cell_type": "code",
      "source": [
        "final_df.to_csv('final_data.csv',index=False)"
      ],
      "metadata": {
        "id": "VOOd01CCuTO_"
      },
      "execution_count": null,
      "outputs": []
    },
    {
      "cell_type": "markdown",
      "source": [
        "**INPUT BIAS**"
      ],
      "metadata": {
        "id": "E1hSY1JHvyQ4"
      }
    },
    {
      "cell_type": "code",
      "source": [
        "from scipy.stats import gmean\n",
        "from scipy.stats import norm\n",
        "import matplotlib.pyplot as plt\n",
        "from matplotlib.ticker import FormatStrFormatter"
      ],
      "metadata": {
        "id": "BAWn0yCPvxY9"
      },
      "execution_count": null,
      "outputs": []
    },
    {
      "cell_type": "code",
      "source": [
        "final_data_df=pd.read_csv('final_data.csv')\n",
        "\n",
        "male_df = final_data_df[final_data_df['Gender'] == 'male']\n",
        "female_df = final_data_df[final_data_df['Gender'] == 'female']"
      ],
      "metadata": {
        "id": "4Q40Y7x-tfCD"
      },
      "execution_count": null,
      "outputs": []
    },
    {
      "cell_type": "code",
      "source": [
        "sampled_female_df = female_df.sample(n=40129, random_state=42)\n",
        "\n",
        "balanced_df = pd.concat([male_df, sampled_female_df])\n",
        "\n",
        "balanced_df = balanced_df.sample(frac=1, random_state=42).reset_index(drop=True)\n",
        "final_data_df=balanced_df\n",
        "\n",
        "print(final_data_df['Gender'].value_counts())\n",
        "\n",
        "final_data_df.info()"
      ],
      "metadata": {
        "id": "jRrGanTZt7Oi"
      },
      "execution_count": null,
      "outputs": []
    },
    {
      "cell_type": "code",
      "source": [
        "# final_data_df=pd.read_csv('final_data.csv')\n",
        "\n",
        "final_data_df['review/helpfulness'] = final_data_df['review/helpfulness'].apply(lambda x: eval(x.replace('/', ',')) if '/' in x else (0, 0))\n",
        "final_data_df['review/helpfulness'] = final_data_df['review/helpfulness'].apply(lambda x: x[0] / x[1] if x[1] != 0 else 0)\n",
        "\n",
        "final_data_df['Authors'] = final_data_df['Authors'].apply(lambda x: eval(x))\n",
        "\n",
        "# final_data_df.sample(n=5)\n"
      ],
      "metadata": {
        "id": "FpQyWw5Mwihg"
      },
      "execution_count": null,
      "outputs": []
    },
    {
      "cell_type": "code",
      "source": [
        "print(final_data_df['Gender'].value_counts())\n",
        "final_data_df['User_id'].nunique()"
      ],
      "metadata": {
        "id": "AZ4h9UI61nU-"
      },
      "execution_count": null,
      "outputs": []
    },
    {
      "cell_type": "code",
      "source": [
        "def GeometricMean(number_list):\n",
        "    if len(number_list) == 0:\n",
        "        return -1\n",
        "    return gmean(number_list)\n",
        "\n",
        "\n",
        "def judge_user_data_segment(data_segment):\n",
        "    male_author_books_ratings = []\n",
        "    female_author_books_ratings = []\n",
        "\n",
        "    for ind in data_segment.index:\n",
        "        gender = data_segment['Gender'][ind]\n",
        "        if gender == 'male':\n",
        "            male_author_books_ratings.append(data_segment['review/score'][ind])\n",
        "        elif gender == 'female':\n",
        "            female_author_books_ratings.append(data_segment['review/score'][ind])\n",
        "        else:\n",
        "            return np.nan, np.nan, np.nan, np.nan\n",
        "\n",
        "    if not male_author_books_ratings or not female_author_books_ratings:\n",
        "        return len(male_author_books_ratings), len(female_author_books_ratings), np.nan, np.nan\n",
        "\n",
        "    gmean_rating_male_author_books = GeometricMean(male_author_books_ratings)\n",
        "    gmean_rating_female_author_books = GeometricMean(female_author_books_ratings)\n",
        "\n",
        "    if gmean_rating_male_author_books == -1 or gmean_rating_female_author_books == -1:\n",
        "        return len(male_author_books_ratings), len(female_author_books_ratings), np.nan, np.nan\n",
        "\n",
        "    ratio_male_female = gmean_rating_male_author_books / gmean_rating_female_author_books\n",
        "    bias_score = np.log(ratio_male_female)\n",
        "\n",
        "    return len(male_author_books_ratings), len(female_author_books_ratings), ratio_male_female, bias_score\n",
        "\n",
        "list_user_bias_score = []\n",
        "\n",
        "for user in final_data_df['User_id'].unique():\n",
        "    user_data_segment = final_data_df.loc[final_data_df['User_id'] == user]\n",
        "    user_data_segment_filtered = user_data_segment[['Authors', 'review/score', 'Gender']]\n",
        "    no_male_author_books, no_female_author_books, ratio_male_female, user_bias_score = judge_user_data_segment(user_data_segment_filtered)\n",
        "\n",
        "    list_user_bias_score.append(user_bias_score)\n",
        "\n",
        "user_bias_df = pd.DataFrame({'User_id': final_data_df['User_id'].unique(), 'Bias_Score': list_user_bias_score})\n",
        "\n",
        "user_bias_df.head()"
      ],
      "metadata": {
        "id": "qR1bH53Qjdgp"
      },
      "execution_count": null,
      "outputs": []
    },
    {
      "cell_type": "code",
      "source": [
        "user_bias_df.info()"
      ],
      "metadata": {
        "id": "i2kJUYc91BmR"
      },
      "execution_count": null,
      "outputs": []
    },
    {
      "cell_type": "code",
      "source": [
        "cleaned_list_user_bias_score = [x for x in list_user_bias_score if str(x) != 'nan' and str(x) != '-inf' and str(x) != 'inf']\n",
        "\n",
        "mean, std = norm.fit(cleaned_list_user_bias_score)\n",
        "\n",
        "print('Mean and Std values ',mean,std)\n"
      ],
      "metadata": {
        "id": "kBcrUccL3JZW"
      },
      "execution_count": null,
      "outputs": []
    },
    {
      "cell_type": "code",
      "source": [
        "fig, ax = plt.subplots(dpi=(200))\n",
        "ax.yaxis.set_major_formatter(FormatStrFormatter('%.1f'))\n",
        "ax.xaxis.set_major_formatter(FormatStrFormatter('%.1f'))\n",
        "\n",
        "plt.hist(cleaned_list_user_bias_score, density=True, bins=100)\n",
        "x = np.linspace(-1.5, 1.5, 1000)\n",
        "y = norm.pdf(x, mean, std)\n",
        "\n",
        "plt.xlabel('Log Bias', fontsize=12)\n",
        "plt.ylabel('Frequency Density', fontsize=12)\n",
        "# plt.title('Distribution of User Bias Scores', fontsize=14)\n",
        "\n",
        "plt.plot(x, y)\n",
        "\n",
        "fig.set_size_inches(3.4,1.87 )\n",
        "\n",
        "plt.legend()\n",
        "plt.show()"
      ],
      "metadata": {
        "id": "pD99t3B9YDBI"
      },
      "execution_count": null,
      "outputs": []
    }
  ]
}